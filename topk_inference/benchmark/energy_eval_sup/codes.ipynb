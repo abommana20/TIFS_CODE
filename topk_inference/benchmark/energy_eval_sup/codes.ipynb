{
 "cells": [
  {
   "cell_type": "code",
   "execution_count": 2,
   "metadata": {},
   "outputs": [],
   "source": [
    "tile_info_path = \"../tile_info\" # file name tile_info_{model_name}_{dataset}.pt list\n",
    "latency_path = \"../latency\" # file name latency_{model_name}_128.pt dict \n",
    "power_trace_path = \"../power_trace\" # file name power_trace_attck_{model_name}_{dataset}_normal.pt list\n",
    "\n",
    "models = [\"resnet18\", \"vgg16\", \"vgg8\",\"densenet40\", \"densenet121\", \"alexnet\"]\n",
    "dataset = \"cifar10\"\n",
    "\n",
    "##Power trace as both normal "
   ]
  },
  {
   "cell_type": "code",
   "execution_count": 3,
   "metadata": {},
   "outputs": [
    {
     "name": "stdout",
     "output_type": "stream",
     "text": [
      "[0.005819509986386402, 0.03851384343393147, 0.07579784665349872, 0.14970707967206837, 0.2884529056824744, 0.3874727210782468, 0.1940204313866794, 0.372963760542497, 0.1832384389270097, 0.36009196055196224, 0.36007409906554966, 0.35983190571963786, 0.36259049767935647, 0.36784002734888344, 0.36244723308440296, 0.3653815555440262, 0.3651949471382424, 0.36560455491375177, 0.3634069182731211, 0.3608926538432017, 0.358697159011662, 0.363400872592628, 0.35868337252717464, 0.3590420724645257, 0.3344298946608789, 0.33743553861817344, 0.335034694202058, 0.3354083046720363, 0.3380987821433693, 0.33488895956501363, 0.3275629201375879, 0.3304033552699722, 0.3306552887366153, 0.327883072400745, 0.3256801693637855, 0.32758721234817056, 0.31697963035507126, 0.3162403780438937, 0.3175715479588136, 0.316184331458807, 0.31683688910519703, 0.3160337392178364, 0.013736178992968053, 0.0, 0.0, 0.0, 0.0, 0.0, 0.0, 0.0, 0.0, 0.0, 0.0, 0.0, 0.0, 0.0, 0.0, 0.0, 0.0, 0.0, 0.0, 0.0, 0.0, 0.0, 0.0, 0.0, 0.0, 0.0, 0.0, 0.0, 0.0, 0.0, 0.0, 0.0, 0.0, 0.0, 0.0, 0.0, 0.0, 0.0, 0.0, 0.0, 0.0, 0.0, 0.0, 0.0, 0.0, 0.0, 0.0, 0.0]\n"
     ]
    }
   ],
   "source": [
    "import torch \n",
    "\n",
    "ptrace = torch.load(\"/data/abommana/research_work/hw_security_CIM/v2_moo_framework/power_trace/combined_power_trace_vgg16_cifar10_normal.pt\",weights_only=True)\n",
    "print(ptrace)"
   ]
  },
  {
   "cell_type": "code",
   "execution_count": 4,
   "metadata": {},
   "outputs": [
    {
     "data": {
      "text/plain": [
       "[0.005819509986386402]"
      ]
     },
     "execution_count": 4,
     "metadata": {},
     "output_type": "execute_result"
    }
   ],
   "source": [
    "len(ptrace)\n",
    "ptrace[0:1]"
   ]
  },
  {
   "cell_type": "code",
   "execution_count": 5,
   "metadata": {},
   "outputs": [
    {
     "name": "stdout",
     "output_type": "stream",
     "text": [
      "{'layer1': 369497.0, 'layer2': 1210430.0, 'layer3': 370124.0, 'layer4': 495742.0, 'layer5': 129882.0, 'layer6': 132800.0, 'layer7': 3865.31, 'layer8': 823.711}\n"
     ]
    },
    {
     "data": {
      "text/plain": [
       "8"
      ]
     },
     "execution_count": 5,
     "metadata": {},
     "output_type": "execute_result"
    }
   ],
   "source": [
    "tile_info = torch.load(\"../latency/latency_vgg8_128.pt\", weights_only=True)\n",
    "\n",
    "print(tile_info)\n",
    "len(tile_info)\n",
    "# sum(tile_info)"
   ]
  },
  {
   "cell_type": "code",
   "execution_count": 69,
   "metadata": {},
   "outputs": [
    {
     "name": "stdout",
     "output_type": "stream",
     "text": [
      "[0.005848686358140549, 0.03345418354451977, 0.03721296402905137, 0.03831245319993468, 0.035826875433442186, 0.0767882737381151, 0.14411420868039132, 0.01235181011359673, 0.14553184403833003, 0.13341765971183778, 0.2927242951333523, 0.34974622944677247, 0.17870673096310347, 0.03354462517742068, 0.3516705358338542, 0.17312050356101244, 0.34008436076650395, 0.1681064516449347, 0.3498145196640864, 0.3434241830541752, 0.3481023576164618, 0.3198039293343201, 0.3217783856376074, 0.31878768137497826, 0.31643658035276456, 0.31818977565811946, 0.3145073644405231, 0.12204714279491455, 0.32022561618899925, 0.3285275124649517, 0.3185991682981141, 0.32536130465408786, 0.3226379768744111, 0.32414913093047215, 0.3559467016307637, 0.35258079683948307, 0.35083120633456855, 0.3496769080807455, 0.35116133870864286, 0.3506718660642393, 0.013643635098543019, 0.0, 0.0, 0.0, 0.0, 0.0, 0.0, 0.0, 0.0, 0.0, 0.0, 0.0, 0.0, 0.0, 0.0, 0.0, 0.0, 0.0, 0.0, 0.0, 0.0, 0.0, 0.0, 0.0, 0.0, 0.0, 0.0, 0.0, 0.0, 0.0, 0.0, 0.0, 0.0, 0.0, 0.0, 0.0, 0.0, 0.0, 0.0, 0.0, 0.0, 0.0, 0.0, 0.0, 0.0, 0.0, 0.0, 0.0, 0.0, 0.0]\n",
      "tile_info [1, 1, 1, 1, 1, 1, 1, 1, 1, 1, 1, 2, 1, 2, 2, 3, 6, 1, 6, 6, 1]\n",
      "sum of tiles 41\n",
      "sum all latencies 8.062035218 ms\n",
      "Energy in mJ model_name resnet18   0.8078914288485601 \n",
      "\n",
      "[0.005819509986386402, 0.03851384343393147, 0.07579784665349872, 0.14970707967206837, 0.2884529056824744, 0.3874727210782468, 0.1940204313866794, 0.372963760542497, 0.1832384389270097, 0.36009196055196224, 0.36007409906554966, 0.35983190571963786, 0.36259049767935647, 0.36784002734888344, 0.36244723308440296, 0.3653815555440262, 0.3651949471382424, 0.36560455491375177, 0.3634069182731211, 0.3608926538432017, 0.358697159011662, 0.363400872592628, 0.35868337252717464, 0.3590420724645257, 0.3344298946608789, 0.33743553861817344, 0.335034694202058, 0.3354083046720363, 0.3380987821433693, 0.33488895956501363, 0.3275629201375879, 0.3304033552699722, 0.3306552887366153, 0.327883072400745, 0.3256801693637855, 0.32758721234817056, 0.31697963035507126, 0.3162403780438937, 0.3175715479588136, 0.316184331458807, 0.31683688910519703, 0.3160337392178364, 0.013736178992968053, 0.0, 0.0, 0.0, 0.0, 0.0, 0.0, 0.0, 0.0, 0.0, 0.0, 0.0, 0.0, 0.0, 0.0, 0.0, 0.0, 0.0, 0.0, 0.0, 0.0, 0.0, 0.0, 0.0, 0.0, 0.0, 0.0, 0.0, 0.0, 0.0, 0.0, 0.0, 0.0, 0.0, 0.0, 0.0, 0.0, 0.0, 0.0, 0.0, 0.0, 0.0, 0.0, 0.0, 0.0, 0.0, 0.0, 0.0]\n",
      "tile_info [1, 1, 1, 1, 1, 2, 2, 3, 6, 6, 6, 6, 6, 1]\n",
      "sum of tiles 43\n",
      "sum all latencies 2.8951917729999996 ms\n",
      "Energy in mJ model_name vgg16   0.5036539816272638 \n",
      "\n",
      "[0.0058208464270050175, 0.03895229538279819, 0.07525175346736797, 0.15146781286951155, 0.2928679638640955, 0.3736980838289484, 0.18749460986852645, 0.4097107486154884, 0.4065553804680705, 0.4026197208145633, 0.402925577625446, 0.41163437141180037, 0.13690450249109418, 0.01240368808428757, 0.0, 0.0, 0.0, 0.0, 0.0, 0.0, 0.0, 0.0, 0.0, 0.0, 0.0, 0.0, 0.0, 0.0, 0.0, 0.0]\n",
      "tile_info [1, 1, 1, 1, 1, 2, 6, 1]\n",
      "sum of tiles 14\n",
      "sum all latencies 2.713164021 ms\n",
      "Energy in mJ model_name vgg8   0.27320520906389645 \n",
      "\n",
      "[0.0030081512113567443, 0.00567114720796817, 0.012822886095801369, 0.0057601845564844555, 0.01275510673802346, 0.005869913153210655, 0.012873091847705655, 0.005989587187278085, 0.01314717974672094, 0.006207515578344465, 0.012668850144091994, 0.006492383521609009, 0.012822941160248593, 0.007431174255535007, 0.00593716066031484, 0.012831273557804525, 0.006083644168020692, 0.013015586951933802, 0.0063320580284111205, 0.012918799166055397, 0.006714741093665362, 0.013038125598523766, 0.007044813339225948, 0.012934658978320659, 0.007362306210771203, 0.012929555694409647, 0.00769160487651825, 0.013058826614706778, 0.013362864898209228, 0.01296768094105646, 0.0134600376204442, 0.013000460905442015, 0.013604727282637032, 0.012991280655097217, 0.013716748770076084, 0.013094996404089034, 0.01383942478785757, 0.012968138249544427, 0.024885940018040127, 0.006996804999280721, 0.012804616122576409, 0.007294197019282729, 0.012834677134361119, 0.007652346486784518, 0.012926058650901542, 0.013277917435498967, 0.012823176435614005, 0.013416823607240804, 0.01281047862356063, 0.013573872765828856, 0.012876145276078024, 0.013644595339411172, 0.012918695614626632, 0.013785278159030714, 0.012850921597401612, 0.01388604261954315, 0.013036765591078438, 0.014212633406696842, 0.01299902717799414, 0.01445910038817674, 0.012873526004096494, 0.014721084920875729, 0.012835512705333531, 0.01502003457788378, 0.01299568269676529, 0.015305015793256462, 0.012859192396700383, 0.009252439523139037, 0.0, 0.0, 0.0, 0.0, 0.0, 0.0, 0.0, 0.0, 0.0, 0.0, 0.0, 0.0, 0.0, 0.0, 0.0, 0.0, 0.0, 0.0, 0.0, 0.0, 0.0, 0.0, 0.0, 0.0, 0.0, 0.0, 0.0, 0.0, 0.0, 0.0, 0.0, 0.0, 0.0, 0.0, 0.0, 0.0, 0.0, 0.0, 0.0, 0.0, 0.0, 0.0, 0.0, 0.0, 0.0, 0.0, 0.0, 0.0, 0.0, 0.0, 0.0, 0.0, 0.0, 0.0, 0.0, 0.0, 0.0, 0.0, 0.0, 0.0, 0.0, 0.0, 0.0, 0.0, 0.0, 0.0, 0.0, 0.0, 0.0, 0.0, 0.0, 0.0, 0.0, 0.0, 0.0, 0.0]\n",
      "tile_info [1, 1, 1, 1, 1, 1, 1, 1, 1, 1, 1, 1, 1, 1, 1, 1, 1, 1, 1, 1, 1, 1, 1, 1, 1, 1, 1, 1, 1, 1, 1, 1, 1, 1, 1, 1, 1, 1, 1, 1, 1, 1, 1, 1, 1, 1, 1, 1, 1, 1, 1, 1, 1, 1, 1, 1, 1, 1, 1, 1, 1, 1, 1, 1, 1, 1, 1, 1]\n",
      "sum of tiles 68\n",
      "sum all latencies 13.385440659999999 ms\n",
      "Energy in mJ model_name densenet40   0.14823458492611247 \n",
      "\n",
      "[0.005836998619989027, 0.011529903236788232, 0.033907964893803, 0.012503148216620321, 0.03511994106061757, 0.013438933889102191, 0.03482539679221809, 0.024711456735496178, 0.03507686133794487, 0.023687937740725466, 0.032567531520687046, 0.024785660782037304, 0.03105181072438136, 0.03909212038703263, 0.014349475281033666, 0.03755039484072477, 0.024037957855363494, 0.034985835499316456, 0.02440573752752389, 0.03523094004318118, 0.02719147002059035, 0.034541843294352295, 0.028970604085735978, 0.035455295302160086, 0.039579458521932245, 0.0347128405218944, 0.038353678213700185, 0.03498826147820801, 0.040693730083096305, 0.03309190297564492, 0.04048554101968184, 0.03254774033389986, 0.05248136645597988, 0.03212714120578021, 0.05173192235081224, 0.03172962892400101, 0.05125957196644158, 0.030317307576257738, 0.1553679014030844, 0.025653593700518833, 0.03551661684010178, 0.03804800106076291, 0.033994534121081235, 0.03863836186423432, 0.03374005307974294, 0.038452998458471846, 0.03595200350806117, 0.040360598566569386, 0.03425147472713143, 0.0519987341103144, 0.034776478491909804, 0.053664423925441226, 0.03361302754906938, 0.05244686139478581, 0.034455892930924895, 0.05561559535264969, 0.03393579711969942, 0.0670566913594521, 0.03303238331405446, 0.06784276874887292, 0.03349963576598093, 0.06750324939994608, 0.033498239829856905, 0.07099003769317642, 0.03248327756132931, 0.08227727380643482, 0.03335207684263587, 0.08379572608090238, 0.033753898121137174, 0.08115851545142941, 0.03315235582245514, 0.0849301128254272, 0.032815836263541134, 0.09454743071625271, 0.032312895239517095, 0.09325317821264034, 0.03280211852230132, 0.09257447917467798, 0.03280421754876152, 0.09460781370932236, 0.03290376050695777, 0.10506996674380062, 0.03197517345957458, 0.1054683882101439, 0.03275852465135977, 0.10364269311853277, 0.031824549611844125, 0.4388662320848554, 0.14958138574715704, 0.04952695949752815, 0.03426033422416076, 0.0594525460086552, 0.03199986078375951, 0.0624287330028019, 0.032619943095557394, 0.05871892727000523, 0.0312779574405402, 0.06425434248731472, 0.03220665624663234, 0.07450859720109729, 0.032581717135105284, 0.07740901543719228, 0.03229174694111571, 0.07937000563095789, 0.03203919397033751, 0.07584464245145209, 0.02936223732372746, 0.0933391561865079, 0.031513591306936, 0.09233149056296097, 0.03206162953116, 0.09226391831895453, 0.03217653622683138, 0.09464417696641758, 0.031135376261733475, 0.10589082673866088, 0.03069317557215691, 0.1039768633973803, 0.031417772125639024, 0.10363064307759615, 0.032076856189593675, 0.02273438280277478, 0.0, 0.0, 0.0, 0.0, 0.0, 0.0, 0.0, 0.0, 0.0, 0.0, 0.0, 0.0, 0.0, 0.0, 0.0, 0.0, 0.0, 0.0, 0.0, 0.0, 0.0, 0.0, 0.0, 0.0, 0.0, 0.0, 0.0, 0.0, 0.0, 0.0, 0.0, 0.0, 0.0, 0.0, 0.0, 0.0, 0.0, 0.0, 0.0, 0.0, 0.0, 0.0, 0.0, 0.0, 0.0, 0.0, 0.0, 0.0, 0.0, 0.0, 0.0, 0.0, 0.0, 0.0, 0.0, 0.0, 0.0, 0.0, 0.0, 0.0, 0.0, 0.0, 0.0, 0.0, 0.0, 0.0, 0.0, 0.0, 0.0, 0.0, 0.0, 0.0, 0.0, 0.0, 0.0, 0.0, 0.0, 0.0, 0.0, 0.0, 0.0, 0.0, 0.0, 0.0, 0.0, 0.0, 0.0, 0.0, 0.0, 0.0, 0.0, 0.0, 0.0, 0.0, 0.0, 0.0, 0.0, 0.0, 0.0, 0.0, 0.0, 0.0, 0.0, 0.0, 0.0, 0.0, 0.0, 0.0, 0.0, 0.0, 0.0, 0.0, 0.0, 0.0, 0.0, 0.0, 0.0, 0.0, 0.0, 0.0, 0.0, 0.0, 0.0, 0.0, 0.0, 0.0, 0.0, 0.0, 0.0, 0.0, 0.0, 0.0, 0.0, 0.0]\n",
      "tile_info [1, 1, 1, 1, 1, 1, 1, 1, 1, 1, 1, 1, 1, 1, 1, 1, 1, 1, 1, 1, 1, 1, 1, 1, 1, 1, 1, 1, 1, 1, 1, 1, 1, 1, 1, 1, 1, 1, 1, 1, 1, 1, 1, 1, 1, 1, 1, 1, 1, 1, 1, 1, 1, 1, 1, 1, 1, 1, 1, 1, 1, 1, 1, 1, 1, 1, 1, 1, 1, 1, 1, 1, 1, 1, 1, 1, 1, 1, 1, 1, 1, 1, 1, 1, 1, 1, 1, 2, 1, 1, 1, 1, 1, 1, 1, 1, 1, 1, 1, 1, 1, 1, 1, 1, 1, 1, 1, 1, 1, 1, 1, 1, 1, 1, 1, 1, 1, 1, 1, 1, 1]\n",
      "sum of tiles 122\n",
      "sum all latencies 30.498353320000003 ms\n",
      "Energy in mJ model_name densenet121   1.3055477037555376 \n",
      "\n",
      "[0.005840092157077743, 0.11142614962032531, 0.38104307968709616, 0.27627826460925864, 0.2656696763001848, 0.26206194763248203, 0.06586801713991444, 0.296477656403603, 0.1441724755275296, 0.2923690048042219, 0.2831868083735928, 0.2820792139387224, 0.29880516516235656, 0.29423933337924535, 0.29159924361696465, 0.28381715064418966, 0.29960937349782324, 0.2876777323104208, 0.29093181088641284, 0.20337132949470543, 0.3078158503917977, 0.30260950853656976, 0.20189043850377203, 0.022651738719979768, 0.0, 0.0, 0.0, 0.0, 0.0, 0.0, 0.0, 0.0, 0.0, 0.0, 0.0, 0.0, 0.0, 0.0, 0.0, 0.0, 0.0, 0.0, 0.0, 0.0, 0.0, 0.0, 0.0, 0.0, 0.0]\n",
      "tile_info [1, 1, 2, 3, 2, 11, 3, 1]\n",
      "sum of tiles 24\n",
      "sum all latencies 1.2926824899999998 ms\n",
      "Energy in mJ model_name alexnet   0.30070158723505047 \n",
      "\n"
     ]
    }
   ],
   "source": [
    "energy_model_dict = {}\n",
    "tile_model_dict = {}\n",
    "for model_name in models:\n",
    "    tile_info = torch.load(f\"{tile_info_path}/tile_info_{model_name}_{dataset}.pt\",weights_only=True)\n",
    "    latency_info = torch.load(f\"{latency_path}/latency_{model_name}_128.pt\",weights_only=True)\n",
    "    power_trace = torch.load(f\"{power_trace_path}/combined_power_trace_{model_name}_{dataset}_normal.pt\",weights_only=True)\n",
    "\n",
    "    ##We are trying to find the baseline energy\n",
    "    total_tiles = sum(tile_info)\n",
    "    tile_model_dict[model_name] = total_tiles\n",
    "    print(power_trace)\n",
    "    power_trace_model = power_trace[0:total_tiles]\n",
    "    # print(power_trace_model)\n",
    "    # print(len(power_trace_model))\n",
    "    ##convert latency dict to list\n",
    "    latency_list = []\n",
    "    for key in latency_info.keys():\n",
    "        latency_list.append(latency_info[key])\n",
    "    tile_end_idx = 0\n",
    "    energy_list = []\n",
    "    print(\"tile_info\", tile_info)\n",
    "    print(\"sum of tiles\", sum(tile_info))\n",
    "    print(\"sum all latencies\", sum(latency_list)*1e-6, \"ms\" )\n",
    "    for layer in range(len(tile_info)):\n",
    "\n",
    "        tile_start_idx = tile_end_idx\n",
    "        tile_end_idx += tile_info[layer]\n",
    "        # print(\"tile start and end idx\", tile_start_idx, tile_end_idx)\n",
    "        power_cummulative = sum(power_trace_model[tile_start_idx:tile_end_idx])\n",
    "        # print(power_cummulative)\n",
    "        energy_list.append(power_cummulative*latency_list[layer])\n",
    "    print(\"Energy in mJ model_name\", model_name,\" \", sum(energy_list)*1e-6, \"\\n\")\n",
    "    energy_model_dict[model_name] = sum(energy_list)\n",
    "\n",
    "    ##SAVE THE BASELINE ENERGY \n",
    "torch.save(energy_model_dict,f\"baseline_energy.pt\" ) ##nJ\n",
    "torch.save(tile_model_dict,f\"tile_model_info.pt\" ) ##nJ"
   ]
  },
  {
   "cell_type": "code",
   "execution_count": 7,
   "metadata": {},
   "outputs": [
    {
     "name": "stdout",
     "output_type": "stream",
     "text": [
      "{'resnet18': 807891.4288485602, 'vgg16': 503653.9816272639, 'vgg8': 273205.20906389644, 'densenet40': 148234.58492611247, 'densenet121': 1305547.7037555377, 'alexnet': 300701.5872350505}\n"
     ]
    }
   ],
   "source": [
    "print(energy_model_dict)"
   ]
  },
  {
   "cell_type": "code",
   "execution_count": 75,
   "metadata": {},
   "outputs": [
    {
     "data": {
      "text/plain": [
       "0.11923199999999999"
      ]
     },
     "execution_count": 75,
     "metadata": {},
     "output_type": "execute_result"
    }
   ],
   "source": [
    "max_storage = 0.12\n",
    "error_bits = 16\n",
    "error_storage = max_storage*128*128*96*error_bits/1024/8 #KB\n",
    "ppower_dram =  error_storage*20.7/64*1e-3\n",
    "ppower_dram"
   ]
  },
  {
   "cell_type": "code",
   "execution_count": 66,
   "metadata": {},
   "outputs": [
    {
     "name": "stdout",
     "output_type": "stream",
     "text": [
      "energy_overhead in mJ for model resnet18   0.04612924788732737\n",
      "overhead percentgae for ec for model resnet18  5.71 %\n",
      "energy_overhead in mJ for model vgg16   0.027799786783554215\n",
      "overhead percentgae for ec for model vgg16  5.52 %\n",
      "energy_overhead in mJ for model vgg8   0.014497890246048441\n",
      "overhead percentgae for ec for model vgg8  5.307 %\n",
      "energy_overhead in mJ for model densenet40   0.009967771781031937\n",
      "overhead percentgae for ec for model densenet40  6.724 %\n",
      "energy_overhead in mJ for model densenet121   0.07537313391903909\n",
      "overhead percentgae for ec for model densenet121  5.773 %\n",
      "energy_overhead in mJ for model alexnet   0.019345593855938877\n",
      "overhead percentgae for ec for model alexnet  6.433 %\n"
     ]
    }
   ],
   "source": [
    "## Now you got the baselines, now get the energy for different tile EC components. \n",
    "##How will you get this done now??\n",
    "import numpy as np\n",
    "ec_energy_model_dict = {}\n",
    "crossbar_info_path = \"../crossbar_layers\"\n",
    "##for 64KB power is 20.7m W \n",
    "# Tile size  96 *128*128 * error bit width 7+7+3\n",
    "##Required Error Storage --> 307.2KB (10 storage cells error bit is 16)--> 99.36 mW\n",
    "max_storage = 0.12\n",
    "error_bits = 4\n",
    "error_storage = max_storage*128*128*96*error_bits/1024/8 #KB\n",
    "power_ec = 0.21e-3\n",
    "power_dram= error_storage*20.7/64*1e-3\n",
    "tile_fraction_protection = [] ##givn a sinput\n",
    "for model_name in models:\n",
    "    crossbar_info = torch.load(f\"{crossbar_info_path}/no_crossbar_layer_{model_name}_cifar10.pt\", weights_only=True)\n",
    "    # print(crossbar_info)\n",
    "    tile_info = torch.load(f\"{tile_info_path}/tile_info_{model_name}_{dataset}.pt\",weights_only=True)\n",
    "    total_tiles = sum(tile_info)\n",
    "    latency_info = torch.load(f\"{latency_path}/latency_{model_name}_128.pt\",weights_only=True)\n",
    "    latency_list = []\n",
    "    for key in latency_info.keys():\n",
    "        latency_list.append(latency_info[key])\n",
    "\n",
    "    crosbar_list = []\n",
    "    for i in range(total_tiles):\n",
    "        tile_fraction_protection.append(np.random.rand(1).item())\n",
    "    for key in crossbar_info.keys():\n",
    "        crosbar_list.append(crossbar_info[key])\n",
    "    \n",
    "    ##Power of EC dram across each layer. \n",
    "    power_cummulative_dram = []\n",
    "    tile_end_idx =0\n",
    "    for layer in range(len(tile_info)):\n",
    "        tile_start_idx = tile_end_idx\n",
    "        tile_end_idx += tile_info[layer]\n",
    "        pdram = 0\n",
    "        tile_fraction_protection_layer = tile_fraction_protection[tile_start_idx:tile_end_idx]\n",
    "        for i in range(tile_info[layer]):\n",
    "            pdram += power_dram*max_storage*0.01\n",
    "        power_cummulative_dram.append(pdram)\n",
    "    power_total_ec = []\n",
    "    for layer in range(len(tile_info)):\n",
    "        pec = crosbar_list[layer]*power_ec + power_cummulative_dram[layer]\n",
    "        power_total_ec.append(pec)\n",
    "\n",
    "    energy_list = []\n",
    "\n",
    "    for layer in range(len(tile_info)):\n",
    "        energy_list.append(power_total_ec[layer]*latency_list[layer])\n",
    "    \n",
    "    print(\"energy_overhead in mJ for model\",  model_name, \" \", sum(energy_list)*1e-6)\n",
    "    ec_energy_model_dict[model_name] = sum(energy_list)\n",
    "    overhead_percentage = ec_energy_model_dict[model_name]/energy_model_dict[model_name] *100\n",
    "    print(\"overhead percentgae for ec for model\",model_name,\"\", round(overhead_percentage,3), \"%\")\n",
    "\n",
    "    \n",
    "torch.save(ec_energy_model_dict,f\"ec_energy.pt\") ##nJ\n",
    "\n",
    "\n",
    "\n"
   ]
  },
  {
   "cell_type": "code",
   "execution_count": 25,
   "metadata": {},
   "outputs": [
    {
     "data": {
      "text/plain": [
       "0.0630940246853974"
      ]
     },
     "execution_count": 25,
     "metadata": {},
     "output_type": "execute_result"
    }
   ],
   "source": [
    "energy_overhead in mJ for model resnet18   0.09688714035325072\n",
    "overhead percentgae for ec for model resnet18  11.993 %\n",
    "energy_overhead in mJ for model vgg16   0.04961874978228496\n",
    "overhead percentgae for ec for model vgg16  9.852 %\n",
    "energy_overhead in mJ for model vgg8   0.033152669346210535\n",
    "overhead percentgae for ec for model vgg8  12.135 %\n",
    "energy_overhead in mJ for model densenet40   0.08028311997587277\n",
    "overhead percentgae for ec for model densenet40  54.16 %\n",
    "energy_overhead in mJ for model densenet121   0.2353811283052218\n",
    "overhead percentgae for ec for model densenet121  18.029 %\n",
    "energy_overhead in mJ for model alexnet   0.03145744318979533\n",
    "overhead percentgae for ec for model alexnet  10.461 %"
   ]
  },
  {
   "cell_type": "code",
   "execution_count": 12,
   "metadata": {},
   "outputs": [
    {
     "name": "stdout",
     "output_type": "stream",
     "text": [
      "[0.8187353829358329, 0.30500958141839973, 0.685119580549779, 0.2987803109867717, 0.7358183216737569, 0.5825380914896231, 0.12123760343083305, 0.7476103948393562, 0.7714009372521431, 0.6013905363902395, 0.6304720726542248, 0.9029920205813863, 0.7612948945352938, 0.18053305259841962, 0.7767738501243845, 0.8519758321170082, 0.4063880654181127, 0.7087240374187935, 0.13374754263566888, 0.8399366637492568, 0.764376713013423, 0.3830142985423787, 0.8221525686112183, 0.10095012167194026, 0.858788648446056, 0.24381020216463062, 0.5429169069186098, 0.45548789297806935, 0.8785701855143282, 0.2780214289431723, 0.19452144216999007, 0.3075932087439484, 0.1026276197278053, 0.11058407644417828, 0.8564162931971527, 0.8942152747771543, 0.759266570866912, 0.17914236015675383, 0.7138747303686445, 0.7210606114065158, 0.7160990726473702]\n",
      "0.09936000000000002\n",
      "model_name resnet18\n",
      "EC Overhead (nJ): 93381.45211472156\n",
      "Overhead Percentage: 11.56%\n",
      "[0.46883919865146373, 0.5466652263916243, 0.7799712928594169, 0.2703232282623136, 0.3585071185417228, 0.4342071891025312, 0.2725621211328588, 0.8437037520537419, 0.6163847820644127, 0.3313498671095314, 0.9130974716803578, 0.6423084940238004, 0.3148950756032585, 0.2855033539799451, 0.16820435111286958, 0.5721899960904521, 0.8283808191413667, 0.7790680316471333, 0.5392980603296625, 0.26433698511030657, 0.3422916502840516, 0.19953458052617512, 0.14819806522509993, 0.48379949941215616, 0.39221564177438284, 0.2787554917113132, 0.13045736805627564, 0.4702641570962346, 0.14855774817031708, 0.4065909577669029, 0.8596790324142806, 0.19983232388353914, 0.6614530108435303, 0.17291642083727782, 0.29127979477986093, 0.28979203473574205, 0.8831797615849364, 0.4400433052829381, 0.8800424458261066, 0.9625992405545281, 0.14346985281349603, 0.9806127129729124, 0.2819322823692545]\n",
      "0.09936000000000002\n",
      "model_name vgg16\n",
      "EC Overhead (nJ): 45571.99501289491\n",
      "Overhead Percentage: 9.05%\n",
      "[0.5574046893538656, 0.5868563200793971, 0.9698869733861304, 0.7690626522391472, 0.7709032511972379, 0.7981999292136297, 0.4104572256817509, 0.4995418407620954, 0.6733387792900964, 0.5857154607035131, 0.3705279455216912, 0.10195102381979623, 0.7357751604232796, 0.6485361260331367]\n",
      "0.09936000000000002\n",
      "model_name vgg8\n",
      "EC Overhead (nJ): 33563.743237516734\n",
      "Overhead Percentage: 12.29%\n",
      "[0.394158194345942, 0.6644079828042821, 0.8691457090273147, 0.43279728721504107, 0.6652572939999304, 0.6120404297332701, 0.5951341420358406, 0.346475648918544, 0.4680345634925137, 0.16645535967660613, 0.18583690881074705, 0.23841367704430122, 0.40276722394983144, 0.8559992017309127, 0.18819183264229933, 0.17979424352969098, 0.8210388550791667, 0.49216216340551755, 0.5127521022032863, 0.8915407625660131, 0.1706234042423806, 0.8258968989712674, 0.7200256325771508, 0.17458714630337654, 0.21910185590617243, 0.7140582092849594, 0.5864448899625011, 0.5900139230240015, 0.4216329319820882, 0.6590811374820896, 0.5541143512328063, 0.10503065444732901, 0.7024090207387906, 0.6195763057510287, 0.3042189899784982, 0.10617418579672279, 0.7231050698196266, 0.889505244834179, 0.3347986298224511, 0.5627469231653791, 0.33295643703339406, 0.991890973085832, 0.4600094900807973, 0.4911269169984793, 0.7483644600907263, 0.12408404714819306, 0.23132683317495897, 0.3874095673123784, 0.5193552698534989, 0.4286378993851273, 0.819107044500439, 0.1826572349065277, 0.2956581416636743, 0.7503714879662925, 0.8765434217682527, 0.9270675535573902, 0.496381529057651, 0.50103798572185, 0.6217555284694788, 0.9941294776218761, 0.8246122614911987, 0.4944786600665251, 0.39967647269886986, 0.1436078401738914, 0.9329873872659455, 0.7551479812646196, 0.21416949287162856, 0.46737153817572186]\n",
      "0.09936000000000002\n",
      "model_name densenet40\n",
      "EC Overhead (nJ): 76901.28834046175\n",
      "Overhead Percentage: 51.88%\n",
      "[0.6499632242019748, 0.4516030009627411, 0.22914169618017233, 0.5042499598340697, 0.8123145605046688, 0.6534922206117695, 0.8590685950128075, 0.5111047622061752, 0.4579906713410409, 0.9306212034340239, 0.1379870896400937, 0.17913106169291748, 0.9186036039643748, 0.688800680621038, 0.880071116769923, 0.5899238316516258, 0.28897861365686867, 0.373507454282448, 0.12223008254644913, 0.5930530297850696, 0.8437935164399494, 0.8229255453280087, 0.8492734277740891, 0.18055465557698805, 0.5374115294966804, 0.584137133276286, 0.991941553900281, 0.31863853442398304, 0.2651063889592198, 0.9550628719581334, 0.9080997865172346, 0.12939025009302138, 0.6165813376196592, 0.3767280852832551, 0.16461377344667943, 0.5108704235281314, 0.49897498348414004, 0.6346875014631752, 0.3210349029396108, 0.5001636055504212, 0.20393037531470892, 0.1587622794767551, 0.34111403622636877, 0.9543062680338925, 0.7032499984267461, 0.5057876071844152, 0.6514405360813651, 0.8361284147946766, 0.19646546618639846, 0.7243583097019929, 0.6697959378303667, 0.49374802778015914, 0.4219488591399658, 0.5577190864163951, 0.7586956903183668, 0.547541885156278, 0.592810923312732, 0.6238772496297145, 0.9618286664549706, 0.8455853839705448, 0.6500577480385711, 0.27239246123633065, 0.3654704460709286, 0.13746756284976955, 0.6614230992184765, 0.8017837060037254, 0.16720599545644899, 0.6812067031925995, 0.8862089084643702, 0.9947154580995307, 0.8483308685942221, 0.6001556718675263, 0.8551584032625714, 0.17192813764772372, 0.8524175460080092, 0.780630833251473, 0.21994039161346396, 0.13066116875954917, 0.7165425445356252, 0.7542120253608829, 0.733600591818266, 0.5938593929927748, 0.6762012367437111, 0.7327934491548299, 0.3418606398057779, 0.7692599405432425, 0.4313242642247326, 0.7885659998309783, 0.9417233330332319, 0.2187870776555664, 0.821904352705331, 0.4661818955546072, 0.8917034429290346, 0.8597105934781482, 0.2954581343859003, 0.6508929651080066, 0.8092042020865012, 0.4785884041328865, 0.1810771223093903, 0.33287334875269237, 0.5485083923751451, 0.14618503500346514, 0.9415318620950613, 0.639592685370275, 0.28681549981100335, 0.3673179845831307, 0.32868961152294784, 0.8604602998863773, 0.7678499099331704, 0.593759470251137, 0.24364434570543347, 0.4989584852904081, 0.8476497299289836, 0.37965488070315134, 0.7190705100729484, 0.10518772672680975, 0.6125658161083932, 0.9451807125837937, 0.4457357412084424, 0.5166299465305144, 0.3151454694131406, 0.7124111075112882]\n",
      "0.09936000000000002\n",
      "model_name densenet121\n",
      "EC Overhead (nJ): 245898.181534544\n",
      "Overhead Percentage: 18.83%\n",
      "[0.8525563589250534, 0.4805943879024316, 0.17792615483504942, 0.3858147239547184, 0.7796207152364467, 0.5948278948381537, 0.38627369193382466, 0.5971338822521202, 0.6770485265911115, 0.4055904385474468, 0.47259371447730714, 0.4816393137040962, 0.19677553223843333, 0.7809894472792525, 0.4872823252655645, 0.45595190365393456, 0.7595393743177008, 0.8566559927741427, 0.775509366674341, 0.41130204707186513, 0.3656467550988355, 0.986741585716247, 0.7622703345235466, 0.39388946628097266]\n",
      "0.09936000000000002\n",
      "model_name alexnet\n",
      "EC Overhead (nJ): 29979.601304677606\n",
      "Overhead Percentage: 9.97%\n"
     ]
    }
   ],
   "source": [
    "import torch\n",
    "import numpy as np\n",
    "\n",
    "def compute_ec_overhead(\n",
    "    tile_fraction_protection,\n",
    "    model_name,\n",
    "    dataset,\n",
    "    tile_info_path=\"../tile_info\",\n",
    "    crossbar_info_path=\"../crossbar_layers\",\n",
    "    latency_path=\"../latency\",\n",
    "    baseline_energy_path=\"baseline_energy.pt\",  # Path to the already-saved baseline energy dict\n",
    "    max_storage=0.12,\n",
    "    error_bits=4\n",
    "):\n",
    "    \"\"\"\n",
    "    Computes EC overhead for a given model and dataset. \n",
    "    Returns the EC overhead (in nJ) and overhead percentage relative to the baseline.\n",
    "\n",
    "    Parameters:\n",
    "    -----------\n",
    "    tile_fraction_protection : list or array-like\n",
    "        A list of tile-level fractions (0 to 1) indicating how much protection to apply at each tile.\n",
    "        Must have length equal to sum of tile_info for the model.\n",
    "    model_name : str\n",
    "        Name of the model (e.g., \"resnet18\", \"vgg16\", etc.)\n",
    "    dataset : str\n",
    "        Name of the dataset (e.g., \"cifar10\")\n",
    "    tile_info_path : str\n",
    "        Directory containing the tile_info_{model_name}_{dataset}.pt files\n",
    "    crossbar_info_path : str\n",
    "        Directory containing the no_crossbar_layer_{model_name}_{dataset}.pt files\n",
    "    latency_path : str\n",
    "        Directory containing the latency_{model_name}_128.pt files\n",
    "    baseline_energy_path : str\n",
    "        File containing the baseline energy dictionary, keyed by model_name\n",
    "    max_storage : float\n",
    "        The fraction of some 'maximum' memory capacity used in your experiment (the original code uses 0.12).\n",
    "        If you have multiple scenarios for different max_storages, adapt accordingly.\n",
    "    error_bits : int\n",
    "        Error bits used in the model (default is 4).\n",
    "\n",
    "    Returns:\n",
    "    --------\n",
    "    ec_energy : float\n",
    "        Total EC overhead energy in nJ\n",
    "    overhead_percentage : float\n",
    "        Overhead percentage relative to the baseline energy\n",
    "    \"\"\"\n",
    "\n",
    "    # 1. Load the baseline energies (already computed & saved in baseline_energy.pt)\n",
    "    baseline_energy_dict = torch.load(baseline_energy_path, weights_only=True)\n",
    "    if model_name not in baseline_energy_dict:\n",
    "        raise KeyError(f\"Model '{model_name}' not found in baseline_energy dictionary.\")\n",
    "    baseline_energy = baseline_energy_dict[model_name]  # in nJ\n",
    "\n",
    "    # 2. Compute error-storage-based power overhead\n",
    "    #    (you can adapt these constants as needed, \n",
    "    #     but here we follow the original snippet)\n",
    "    error_storage = max_storage * 128 * 128 * 96 * error_bits / 1024 / 8  # in KB\n",
    "    power_ec   = 0.21e-3            # W  (i.e., J/ms) from code snippet\n",
    "    power_dram = error_storage * 20.7 / 64 * 1e-3  # also W\n",
    "    print(power_dram)\n",
    "\n",
    "    # 3. Load crossbar info (no_crossbar_layer_{model_name}_{dataset}.pt)\n",
    "    crossbar_info = torch.load(f\"{crossbar_info_path}/no_crossbar_layer_{model_name}_{dataset}.pt\", \n",
    "                               weights_only=True)\n",
    "    crosbar_list = list(crossbar_info.values())  # same ordering as in code\n",
    "\n",
    "    # 4. Load tile info and get total number of tiles\n",
    "    tile_info = torch.load(f\"{tile_info_path}/tile_info_{model_name}_{dataset}.pt\", weights_only=True)\n",
    "    total_tiles = sum(tile_info)\n",
    "    if len(tile_fraction_protection) != total_tiles:\n",
    "        raise ValueError(\n",
    "            f\"Length of tile_fraction_protection ({len(tile_fraction_protection)}) \"\n",
    "            f\"must match total_tiles ({total_tiles}).\"\n",
    "        )\n",
    "\n",
    "    # 5. Load latency info and convert to list\n",
    "    latency_info = torch.load(f\"{latency_path}/latency_{model_name}_128.pt\", weights_only=True)\n",
    "    latency_list = list(latency_info.values())\n",
    "\n",
    "    # 6. Compute DRAM overhead per layer, using tile_fraction_protection as needed\n",
    "    tile_end_idx = 0\n",
    "    power_cummulative_dram = []\n",
    "    for layer in range(len(tile_info)):\n",
    "        tile_start_idx = tile_end_idx\n",
    "        tile_end_idx  += tile_info[layer]\n",
    "        tile_fractions = tile_fraction_protection[tile_start_idx:tile_end_idx]\n",
    "        \n",
    "        # Original code example did not truly incorporate `tile_fractions` in the DRAM \n",
    "        # power calculation, but you can adapt as needed. Here we show the simplest\n",
    "        # direct approach matching the snippet structure:\n",
    "        pdram_layer = 0\n",
    "        for frac in tile_fractions:\n",
    "            # e.g., incorporate fraction here if you want fraction-based overhead:\n",
    "            # pdram_layer += power_dram * max_storage * frac\n",
    "            #\n",
    "            # The snippet used a constant factor (0.01) for each tile:\n",
    "            pdram_layer += power_dram * max_storage * frac\n",
    "        \n",
    "        power_cummulative_dram.append(pdram_layer)\n",
    "\n",
    "    # 7. Compute total EC power per layer: crossbar + DRAM overhead\n",
    "    power_total_ec = []\n",
    "    for layer in range(len(tile_info)):\n",
    "        # crossbar_list[layer] is the number of crossbars in that layer\n",
    "        pec_layer = crosbar_list[layer] * power_ec + power_cummulative_dram[layer]\n",
    "        power_total_ec.append(pec_layer)\n",
    "\n",
    "    # 8. Compute total EC energy overhead across all layers\n",
    "    ec_energy_list = []\n",
    "    for layer in range(len(tile_info)):\n",
    "        # Energy = Power * Time\n",
    "        ec_energy_list.append(power_total_ec[layer] * latency_list[layer])\n",
    "    ec_energy = sum(ec_energy_list)  # in nJ, if your power is in nJ/ms, be sure units are consistent\n",
    "\n",
    "    # 9. Compute overhead percentage\n",
    "    overhead_percentage = (ec_energy / baseline_energy) * 100.0\n",
    "\n",
    "    return ec_energy, overhead_percentage\n",
    "\n",
    "\n",
    "if __name__ == \"__main__\":\n",
    "    # Example usage\n",
    "    models = [\"resnet18\", \"vgg16\", \"vgg8\",\"densenet40\", \"densenet121\", \"alexnet\"]\n",
    "    dataset = \"cifar10\"\n",
    "    tile_info_path=\"../tile_info\"\n",
    "    # Suppose we want overhead for resnet18 with random tile_fraction_protection:\n",
    "    # (In a real scenario, you'd define or compute these fractions carefully.)\n",
    "    for model_name in models:\n",
    "        tile_info = torch.load(\"tile_model_info.pt\", weights_only=True)\n",
    "        # g = np.random.uniform(low=0.1, high=1, size=sum(tile_info))\n",
    "        tile_info_layer = torch.load(f\"{tile_info_path}/tile_info_{model_name}_{dataset}.pt\", weights_only=True)\n",
    "        tile_fraction_protection_example = np.random.uniform(low=0.1, high=1, size=sum(tile_info_layer)).tolist()  # e.g. 1000 tiles, just a placeholder\n",
    "        print(tile_fraction_protection_example)\n",
    "        ec_energy, overhead_pct = compute_ec_overhead(\n",
    "            tile_fraction_protection=tile_fraction_protection_example,\n",
    "            model_name=model_name,\n",
    "            dataset=dataset,\n",
    "            tile_info_path=\"../tile_info\",\n",
    "            crossbar_info_path=\"../crossbar_layers\",\n",
    "            latency_path=\"../latency\",\n",
    "            baseline_energy_path=\"baseline_energy.pt\",  # adjust if needed\n",
    "            max_storage=0.1,\n",
    "            error_bits=25\n",
    "        )\n",
    "        print(\"model_name\", model_name)\n",
    "        print(f\"EC Overhead (nJ): {ec_energy}\")\n",
    "        print(f\"Overhead Percentage: {overhead_pct:.2f}%\")\n"
   ]
  },
  {
   "cell_type": "code",
   "execution_count": 1,
   "metadata": {},
   "outputs": [
    {
     "name": "stdout",
     "output_type": "stream",
     "text": [
      "[3, 4, 5]\n"
     ]
    }
   ],
   "source": [
    "a =[]\n",
    "\n",
    "b= [3]\n",
    "c =[4,5]\n",
    "\n",
    "for i in [b,c]:\n",
    "    a+=i\n",
    "\n",
    "print(a)"
   ]
  },
  {
   "cell_type": "code",
   "execution_count": null,
   "metadata": {},
   "outputs": [],
   "source": []
  }
 ],
 "metadata": {
  "kernelspec": {
   "display_name": "pytorch",
   "language": "python",
   "name": "python3"
  },
  "language_info": {
   "codemirror_mode": {
    "name": "ipython",
    "version": 3
   },
   "file_extension": ".py",
   "mimetype": "text/x-python",
   "name": "python",
   "nbconvert_exporter": "python",
   "pygments_lexer": "ipython3",
   "version": "3.11.9"
  }
 },
 "nbformat": 4,
 "nbformat_minor": 2
}
