{
 "cells": [
  {
   "cell_type": "code",
   "execution_count": 1,
   "metadata": {},
   "outputs": [
    {
     "data": {
      "text/plain": [
       "\"Floorplan generated and saved to 'floorplan.txt'.\""
      ]
     },
     "execution_count": 1,
     "metadata": {},
     "output_type": "execute_result"
    }
   ],
   "source": [
    "def generate_floorplan(Nx, Ny, tx, ty, tsvy):\n",
    "    floorplan = []\n",
    "    tsvx = Nx * tx  # Calculate the width of the TSV based on the number of tiles and the width of each tile\n",
    "    \n",
    "    # Generate the floorplan\n",
    "    for y in range(Ny):\n",
    "        # Calculate the bottom y-coordinate of the current row of tiles and TSV\n",
    "        bottom_y_tiles = y * (ty + tsvy)\n",
    "        bottom_y_tsv = bottom_y_tiles + ty\n",
    "        \n",
    "        # Add Nx tiles to the floorplan\n",
    "        for i in range(Nx):\n",
    "            left_x = i * tx  # Calculate the left x-coordinate of the current tile\n",
    "            unit_name = f\"tile{y*Nx+i+1}\"\n",
    "            floorplan.append(f\"{unit_name}\\t{tx}\\t{ty}\\t{left_x}\\t{bottom_y_tiles}\")\n",
    "        \n",
    "        # Add one TSV above the tiles in the current row\n",
    "        unit_name_tsv = f\"tsv{y+1}\"\n",
    "        floorplan.append(f\"{unit_name_tsv}\\t{tsvx}\\t{tsvy}\\t{0.0}\\t{bottom_y_tsv}\")\n",
    "\n",
    "    # Save to a text file\n",
    "    with open('floorplan.txt', 'w') as file:\n",
    "        file.write(\"\\n\".join(floorplan))\n",
    "    \n",
    "    return \"Floorplan generated and saved to 'floorplan.txt'.\"\n",
    "\n",
    "# Parameters\n",
    "Nx = 3\n",
    "Ny = 4\n",
    "tx = 0.002\n",
    "ty = 0.002\n",
    "tsvy = 0.0003\n",
    "\n",
    "# Generate the floorplan\n",
    "generate_floorplan(Nx, Ny, tx, ty, tsvy)\n"
   ]
  },
  {
   "cell_type": "markdown",
   "metadata": {},
   "source": [
    "Power trace generation  "
   ]
  },
  {
   "cell_type": "code",
   "execution_count": 2,
   "metadata": {},
   "outputs": [],
   "source": [
    "import math\n",
    "tile_power = 0.001\n",
    "\n",
    "##write a function to generate the number of tiles required for each layer and depending on the utilization of the tile determine the power consumed by the tile\n",
    "tile_dict = {}\n",
    "def generate_tile_power(crxb_size, cell_res, weight_res,layer_name, layer_size, pe_row, pe_col, array_row, array_col, tile_power):\n",
    "    if layer_name == \"conv\":\n",
    "        ##find the required number of crxb\n",
    "        weight_shape = layer_size\n",
    "        num_xbs_along_col = math.ceil(weight_shape[0]*weight_res/cell_res)\n",
    "        num_xbs_along_row = math.ceil(weight_shape[1]*weight_shape[2]*weight_shape[3]/crxb_size)\n",
    "        num_pe_row = math.ceil(num_xbs_along_row/array_row)\n",
    "        num_pe_col = math.ceil(num_xbs_along_col/array_col)\n",
    "        num_tile_row = math.ceil(num_pe_row/pe_row)\n",
    "        num_tile_col = math.ceil(num_pe_col/pe_col)\n",
    "        num_tiles = num_tile_row*num_tile_col\n",
    "\n",
    "        ## find the utilization rate of the each tile\n",
    "        num_elements_in_xb = crxb_size*crxb_size*weight_res/cell_res\n",
    "        num_elements_layer = weight_shape[0]*weight_shape[1]*weight_shape[2]*weight_shape[3]\n",
    "        for i in range(num_tiles):\n",
    "            if num_elements_layer > num_elements_in_xb:\n",
    "                tile_utilization = 1.0\n",
    "            else:\n",
    "                tile_utilization = num_elements_layer/num_elements_in_xb\n",
    "            num_elements_layer = num_elements_layer - num_elements_in_xb\n",
    "        \n",
    "        \n",
    "\n",
    "        for i in range(num_tiles):\n",
    "            tile_dict[\"tile\"+str(i)] = tile_power\n",
    "    elif layer_name == \"fc\":\n",
    "        weight_shape = layer_size\n",
    "        num_xbs_along_col = math.ceil(weight_shape[0]*weight_res/cell_res)\n",
    "        num_xbs_along_row = math.ceil(weight_shape[1]/crxb_size)\n",
    "        num_pe_row = math.ceil(num_xbs_along_row/array_row)\n",
    "        num_pe_col = math.ceil(num_xbs_along_col/array_col)\n",
    "        num_tile_row = math.ceil(num_pe_row/pe_row)\n",
    "        num_tile_col = math.ceil(num_pe_col/pe_col)\n",
    "        num_tiles = num_tile_row*num_tile_col\n",
    "        for i in range(num_tiles):\n",
    "            tile_dict[\"tile\"+str(i)] = tile_power\n",
    "\n",
    "        "
   ]
  },
  {
   "cell_type": "code",
   "execution_count": 3,
   "metadata": {},
   "outputs": [
    {
     "name": "stdout",
     "output_type": "stream",
     "text": [
      "LeNet(\n",
      "  (conv1): Conv2d(1, 6, kernel_size=(5, 5), stride=(1, 1))\n",
      "  (conv2): Conv2d(6, 16, kernel_size=(5, 5), stride=(1, 1))\n",
      "  (fc1): Linear(in_features=256, out_features=120, bias=True)\n",
      "  (fc2): Linear(in_features=120, out_features=84, bias=True)\n",
      "  (fc3): Linear(in_features=84, out_features=10, bias=True)\n",
      ")\n"
     ]
    }
   ],
   "source": [
    "#write a torch neural network model to generate the layer size\n",
    "import torch\n",
    "import torch.nn as nn\n",
    "# Define the LeNet architecture\n",
    "class LeNet(nn.Module):\n",
    "    def __init__(self):\n",
    "        super(LeNet, self).__init__()\n",
    "        self.conv1 = nn.Conv2d(1, 6, kernel_size=5)\n",
    "        self.conv2 = nn.Conv2d(6, 16, kernel_size=5)\n",
    "        self.fc1 = nn.Linear(16*4*4, 120)\n",
    "        self.fc2 = nn.Linear(120, 84)\n",
    "        self.fc3 = nn.Linear(84, 10)\n",
    "\n",
    "    def forward(self, x):\n",
    "        # First convolutional layer with activation and pooling\n",
    "        x = nn.functional.relu(self.conv1(x))\n",
    "        x = nn.functional.max_pool2d(x, kernel_size=2, stride=2)\n",
    "        \n",
    "        # Second convolutional layer with activation and pooling\n",
    "        x = nn.functional.relu(self.conv2(x))\n",
    "        x = nn.functional.max_pool2d(x, kernel_size=2, stride=2)\n",
    "        \n",
    "        # Flatten the output for the fully connected layer\n",
    "        x = x.view(-1, 16*4*4)\n",
    "        \n",
    "        # Fully connected layers with activation\n",
    "        x = nn.functional.relu(self.fc1(x))\n",
    "        x = nn.functional.relu(self.fc2(x))\n",
    "        x = self.fc3(x)\n",
    "        \n",
    "        return x\n",
    "model = LeNet()\n",
    "\n",
    "print(model)\n",
    "for name,module in model.named_modules():\n",
    "    if isinstance(module, nn.Conv2d):\n",
    "        param = module.weight.shape"
   ]
  },
  {
   "cell_type": "code",
   "execution_count": 4,
   "metadata": {},
   "outputs": [
    {
     "name": "stdout",
     "output_type": "stream",
     "text": [
      "1\n",
      "{'tile1': 0.10313}\n"
     ]
    }
   ],
   "source": [
    "import math\n",
    "\n",
    "tile_power = 0.33  # Base power consumption of a tile when fully utilized\n",
    "tile_dict = {}\n",
    "def generate_tile_power(crxb_size, cell_res, weight_res, layer_name, layer_size, pe_row, pe_col, array_row, array_col, tile_dict, tile_power, tile_start_idx=0):\n",
    "    \n",
    "    \n",
    "    if layer_name == \"conv\":\n",
    "        # Calculate required number of crossbars (Xbars)\n",
    "        weight_shape = layer_size  # Assuming weight_shape is a tuple (out_channels, in_channels, kernel_height, kernel_width)\n",
    "        num_xbs_along_col = math.ceil(weight_shape[0] * (weight_res / cell_res)/crxb_size)\n",
    "        num_xbs_along_row = math.ceil(weight_shape[1] * weight_shape[2] * weight_shape[3] / crxb_size)\n",
    "        num_xbs_in_tile_row = pe_row * array_row\n",
    "        num_xbs_in_tile_col = pe_col * array_col\n",
    "        num_tile_row = math.ceil(num_xbs_along_row / num_xbs_in_tile_row)\n",
    "        num_tile_col = math.ceil(num_xbs_along_col / num_xbs_in_tile_col)\n",
    "        num_tiles = num_tile_row * num_tile_col\n",
    "        # print(num_tiles)\n",
    "        # Find the utilization rate of each tile\n",
    "        num_elements_in_xb_in_tile = crxb_size * (crxb_size/(weight_res / cell_res))*pe_col*pe_row*array_row*array_col    \n",
    "        num_elements_layer = weight_shape[0] * weight_shape[1] * weight_shape[2] * weight_shape[3] \n",
    "        total_num_elements = num_elements_layer  # Store the total number of elements to calculate the last tile utilization\n",
    "        tiles_utilization = []\n",
    "        num_elements_along_row = weight_shape[1] * weight_shape[2] * weight_shape[3]\n",
    "        num_elements_along_col = weight_shape[0] * (weight_res / cell_res)\n",
    "        num_elements_in_tile_along_row = pe_row * array_row * crxb_size\n",
    "        num_elements_in_tile_along_col = pe_col * array_col * crxb_size\n",
    "\n",
    "        for i in range(num_tile_row):\n",
    "            for j in range(num_tile_col):\n",
    "                if num_elements_along_row > 0 and num_elements_along_col > 0:\n",
    "                    if num_elements_along_row * num_elements_along_col > num_elements_in_tile_along_row * num_elements_in_tile_along_col:\n",
    "                        tile_utilization = 1.0\n",
    "                        num_elements_along_col = num_elements_along_col - num_elements_in_tile_along_col\n",
    "                    else:\n",
    "                        tile_utilization = (num_elements_along_row * num_elements_along_col) / (num_elements_in_tile_along_row * num_elements_in_tile_along_col)\n",
    "                        # print('tile_utilization',tile_utilization)\n",
    "                    tiles_utilization.append(tile_utilization)\n",
    "            num_elements_along_row = num_elements_along_row - num_elements_in_tile_along_row\n",
    "                \n",
    "        # Calculate power for each tile based on utilization\n",
    "        for i, utilization in enumerate(tiles_utilization):\n",
    "            tile_dict[f\"tile{tile_start_idx+i+1}\"] = round(utilization * tile_power, 5)\n",
    "\n",
    "    elif layer_name == \"fc\":\n",
    "        # Similar calculations for fully connected layers\n",
    "        weight_shape = layer_size  # Assuming weight_shape is a tuple (out_features, in_features)\n",
    "        num_xbs_along_col = math.ceil(weight_shape[0] * weight_res / cell_res/crxb_size)\n",
    "        num_xbs_along_row = math.ceil(weight_shape[1] / crxb_size)\n",
    "        num_xbs_in_tile_row = pe_row * array_row\n",
    "        num_xbs_in_tile_col = pe_col * array_col\n",
    "        num_tile_row = math.ceil(num_xbs_along_row / num_xbs_in_tile_row)\n",
    "        num_tile_col = math.ceil(num_xbs_along_col / num_xbs_in_tile_col)\n",
    "        num_tiles = num_tile_row * num_tile_col\n",
    "        # num_tiles = num_tile_row * num_tile_col\n",
    "        # print(num_tiles)\n",
    "        tiles_utilization = []\n",
    "        num_elements_along_row = weight_shape[1] \n",
    "        num_elements_along_col = weight_shape[0] * (weight_res / cell_res)\n",
    "        num_elements_in_tile_along_row = pe_row * array_row * crxb_size\n",
    "        num_elements_in_tile_along_col = pe_col * array_col * crxb_size\n",
    "\n",
    "        for i in range(num_tile_row):\n",
    "            for j in range(num_tile_col):\n",
    "                if num_elements_along_row > 0 and num_elements_along_col > 0:\n",
    "                    if num_elements_along_row * num_elements_along_col > num_elements_in_tile_along_row * num_elements_in_tile_along_col:\n",
    "                        tile_utilization = 1.0\n",
    "                        num_elements_along_col = num_elements_along_col - num_elements_in_tile_along_col\n",
    "                    else:\n",
    "                        tile_utilization = (num_elements_along_row * num_elements_along_col) / (num_elements_in_tile_along_row * num_elements_in_tile_along_col)\n",
    "                        # print('tile_utilization',tile_utilization)\n",
    "                    tiles_utilization.append(tile_utilization)\n",
    "            num_elements_along_row = num_elements_along_row - num_elements_in_tile_along_row\n",
    "\n",
    "        # Calculate power for each tile based on utilization\n",
    "        for i, utilization in enumerate(tiles_utilization):\n",
    "            tile_dict[f\"tile{tile_start_idx+i+1}\"] = round(utilization * tile_power, 5)\n",
    "\n",
    "    return num_tiles\n",
    "def pad_tile(d, k):\n",
    "    # Extract suffixes where keys match 'tile{number}' and compute the maximum\n",
    "    suffixes = [int(key[4:]) for key in d if key.startswith('tile')]\n",
    "    highest_key = max(suffixes) if suffixes else 0\n",
    "\n",
    "    # Calculate how many dummy keys are needed\n",
    "    dummy_keys_needed = (k - (len(d) % k)) % k\n",
    "\n",
    "    # Add dummy keys continuing from the last key number\n",
    "    for i in range(1, dummy_keys_needed + 1):\n",
    "        d[f\"tile{highest_key + i}\"] = 0\n",
    "\n",
    "    return d\n",
    "\n",
    "# Example usage:\n",
    "crxb_size = 128\n",
    "cell_res = 2\n",
    "weight_res = 8\n",
    "layer_name = \"fc\"\n",
    "layer_size = (120,256)  # Out_channels, In_channels, Kernel_height, Kernel_width\n",
    "pe_row = 3\n",
    "pe_col = 2\n",
    "array_row = 2\n",
    "array_col = 2\n",
    "\n",
    "tile_powers = generate_tile_power(crxb_size, cell_res, weight_res, layer_name, layer_size, pe_row, pe_col, array_row, array_col, tile_dict, tile_power, tile_start_idx=0)\n",
    "# for tile, power in tile_powers.items():\n",
    "#     print(f\"{tile}: {power:.6f} W\")\n",
    "print(tile_powers)\n",
    "print(tile_dict)"
   ]
  },
  {
   "cell_type": "code",
   "execution_count": 5,
   "metadata": {},
   "outputs": [
    {
     "name": "stdout",
     "output_type": "stream",
     "text": [
      "torch.Size([6, 1, 5, 5])\n",
      "torch.Size([16, 6, 5, 5])\n",
      "torch.Size([120, 256])\n",
      "torch.Size([84, 120])\n",
      "torch.Size([10, 84])\n",
      "{'tile1': 0.0005, 'tile2': 0.00806, 'tile3': 0.10313, 'tile4': 0.03384, 'tile5': 0.00282, 'tile6': 0}\n"
     ]
    }
   ],
   "source": [
    "\n",
    "for name, module in model.named_modules():\n",
    "    if isinstance(module, nn.Conv2d):\n",
    "        layer_shape = module.weight.shape\n",
    "        print(layer_shape)\n",
    "        num_tile = generate_tile_power(crxb_size, cell_res, weight_res, \"conv\", layer_shape, pe_row, pe_col, array_row, array_col, tile_dict, tile_power, tile_start_idx)\n",
    "        tile_start_idx += num_tile\n",
    "    elif isinstance(module, nn.Linear):\n",
    "        layer_shape = module.weight.shape\n",
    "        print(layer_shape)\n",
    "        num_tile = generate_tile_power(crxb_size, cell_res, weight_res, \"fc\", layer_shape, pe_row, pe_col, array_row, array_col,  tile_dict, tile_power, tile_start_idx)\n",
    "        tile_start_idx += num_tile\n",
    "updated_tile_dict = pad_tile(tile_dict, Nx)\n",
    "print(tile_dict)"
   ]
  },
  {
   "cell_type": "markdown",
   "metadata": {},
   "source": [
    "ADD TSV power trace. "
   ]
  },
  {
   "cell_type": "code",
   "execution_count": 6,
   "metadata": {},
   "outputs": [
    {
     "name": "stdout",
     "output_type": "stream",
     "text": [
      "{'tile1': 0.0005, 'tile2': 0.00806, 'tile3': 0.10313, 'tile4': 0.03384, 'tile5': 0.00282, 'tile6': 0, 'tsv1': 0, 'tsv2': 0, 'tsv3': 0, 'tsv4': 0, 'tsv5': 0, 'tsv6': 0, 'mem_tile1': 0.15, 'mem_tile2': 0.15, 'mem_tile3': 0.15, 'mem_tile4': 0.15, 'mem_tile5': 0.15, 'mem_tile6': 0.15, 'memtsv1': 0, 'memtsv2': 0, 'memtsv3': 0, 'memtsv4': 0, 'memtsv5': 0, 'memtsv6': 0}\n"
     ]
    }
   ],
   "source": [
    "def add_keys_based_on_name(d, base_name,len, tile_power):\n",
    "    # Count the current number of keys\n",
    "    current_key_count = len\n",
    "    \n",
    "    # Add additional keys based on the base name and the current key count\n",
    "    for i in range(1, current_key_count + 1):\n",
    "        new_key = f\"{base_name}{i}\"  # Construct the new key name\n",
    "        d[new_key] = tile_power  # Initialize with a default value (e.g., 0)\n",
    "\n",
    "    return d\n",
    "\n",
    "tsv_dict = {}\n",
    "length = len(tile_dict)\n",
    "tsv_dict = add_keys_based_on_name(updated_tile_dict, \"tsv\",length, 0)\n",
    "mem_tile_power = 0.15\n",
    "mem_tile_d = {}\n",
    "mem_tile_d = add_keys_based_on_name(tsv_dict, \"memtile\",length, mem_tile_power)\n",
    "mem_tile_tsv = {}\n",
    "mem_tile_tsv = add_keys_based_on_name(mem_tile_d, \"memtsv\",length, 0)\n",
    "print(tsv_dict)"
   ]
  },
  {
   "cell_type": "code",
   "execution_count": 7,
   "metadata": {},
   "outputs": [
    {
     "name": "stdout",
     "output_type": "stream",
     "text": [
      "{'tile1': 0.0005, 'tile2': 0.00806, 'tile3': 0.10313, 'tile4': 0.03384, 'tile5': 0.00282, 'tile6': 0, 'tsv1': 0, 'tsv2': 0, 'tsv3': 0, 'tsv4': 0, 'tsv5': 0, 'tsv6': 0, 'mem_tile1': 0.15, 'mem_tile2': 0.15, 'mem_tile3': 0.15, 'mem_tile4': 0.15, 'mem_tile5': 0.15, 'mem_tile6': 0.15, 'memtsv1': 0, 'memtsv2': 0, 'memtsv3': 0, 'memtsv4': 0, 'memtsv5': 0, 'memtsv6': 0}\n"
     ]
    }
   ],
   "source": [
    "print(mem_tile_tsv)"
   ]
  },
  {
   "cell_type": "code",
   "execution_count": 12,
   "metadata": {},
   "outputs": [],
   "source": [
    "def write_dict_to_file(d, filename):\n",
    "    # Open the file for writing\n",
    "    with open(filename, 'w') as file:\n",
    "        # Write the keys on the first row separated by tabs\n",
    "        file.write('\\t'.join(d.keys()) + '\\n')\n",
    "        # Write the values on the second row, converting all values to strings and separating by tabs\n",
    "        file.write('\\t'.join(map(str, d.values())) + '\\n')\n",
    "\n",
    "# Filename to write to\n",
    "filename = 'output.ptrace'\n",
    "# Write the dictionary to the file\n",
    "write_dict_to_file(tsv_dict, filename)\n"
   ]
  },
  {
   "cell_type": "markdown",
   "metadata": {},
   "source": [
    "Memory size requirements. \n",
    "1,2,3,4,5,6,7,8,9,10    "
   ]
  },
  {
   "cell_type": "code",
   "execution_count": 1,
   "metadata": {},
   "outputs": [
    {
     "name": "stdout",
     "output_type": "stream",
     "text": [
      "[1, 2, 3, 4, 5, 6, 7, 8, 9, 10, 15, 20, 30, 35, 40]\n",
      "{'1': 33423.36, '2': 66846.72, '3': 100270.08, '4': 133693.44, '5': 167116.8, '6': 200540.16, '7': 233963.52, '8': 267386.88, '9': 300810.24, '10': 334233.6, '15': 501350.4, '20': 668467.2, '30': 1002700.8, '35': 1169817.6, '40': 1336934.4}\n",
      "{'1': 348.16, '2': 696.32, '3': 1044.48, '4': 1392.64, '5': 1740.8, '6': 2088.96, '7': 2437.12, '8': 2785.28, '9': 3133.44, '10': 3481.6, '15': 5222.4, '20': 6963.2, '30': 10444.8, '35': 12185.6, '40': 13926.4}\n"
     ]
    }
   ],
   "source": [
    "fault_covergae = [1,2,3,4,5,6,7,8,9,10,15,20,30,35,40] #in percentage\n",
    "crxb_size = 128\n",
    "cell_res = 2\n",
    "tile_start_idx=0\n",
    "tile_dict = {}\n",
    "crxb_size = 128\n",
    "cell_res = 2\n",
    "weight_res = 8\n",
    "pe_row = 3\n",
    "pe_col = 4\n",
    "array_row = 2\n",
    "array_col = 4\n",
    "\n",
    "crxb_memory = crxb_size*crxb_size*cell_res/8/1024 #in KB\n",
    "bits_to_store_error = 17 #in bits ( 7 row + 7 col + 3 value)\n",
    "element_size = crxb_size*crxb_size\n",
    "num_xb_in_tile = pe_col*pe_row*array_row*array_col\n",
    "def memory_requirement(fault_coverage, element_size, bits_to_store_error,num_xb_in_tile):\n",
    "    memory = {}\n",
    "    for i in fault_coverage:\n",
    "        memory[f'{i}']= (element_size*i*bits_to_store_error*num_xb_in_tile/100/8) #in B\n",
    "    return memory\n",
    "print(fault_covergae)\n",
    "print(memory_requirement(fault_covergae, element_size, bits_to_store_error, num_xb_in_tile))\n",
    "print(memory_requirement(fault_covergae, element_size, bits_to_store_error, 1))"
   ]
  },
  {
   "cell_type": "code",
   "execution_count": null,
   "metadata": {},
   "outputs": [],
   "source": []
  },
  {
   "cell_type": "code",
   "execution_count": 10,
   "metadata": {},
   "outputs": [],
   "source": [
    "error_memory = {'1': 8355.84, '2': 16711.68, '3': 25067.52, '4': 33423.36, '5': 41779.2, '6': 50135.04, '7': 58490.88, '8': 66846.72, '9': 75202.56, '10': 83558.4}\n"
   ]
  },
  {
   "cell_type": "code",
   "execution_count": 11,
   "metadata": {},
   "outputs": [],
   "source": [
    "\n",
    "        \n",
    "    # print(name, layer)\n",
    "    # print(name, layer.size())"
   ]
  },
  {
   "cell_type": "code",
   "execution_count": 6,
   "metadata": {},
   "outputs": [
    {
     "name": "stdout",
     "output_type": "stream",
     "text": [
      "The maximum value is: 344.66\n"
     ]
    }
   ],
   "source": [
    "import re\n",
    "def extract_max_value(filename):\n",
    "    pattern = re.compile(r'layer_1_tile\\d+\\s+(\\d+\\.\\d+)')\n",
    "    max_value = float('-inf')\n",
    "\n",
    "    with open(filename, 'r') as file:\n",
    "        for line in file:\n",
    "            match = pattern.search(line)\n",
    "            if match:\n",
    "                value = float(match.group(1))\n",
    "                if value > max_value:\n",
    "                    max_value = value\n",
    "\n",
    "    return max_value\n",
    "\n",
    "filename = '../vgg16/outputs/example.steady'\n",
    "max_value = extract_max_value(filename)\n",
    "print(f\"The maximum value is: {max_value}\")"
   ]
  },
  {
   "cell_type": "code",
   "execution_count": 7,
   "metadata": {},
   "outputs": [
    {
     "data": {
      "image/png": "[encoded data removed]",
      "text/plain": [
       "<Figure size 640x480 with 2 Axes>"
      ]
     },
     "metadata": {},
     "output_type": "display_data"
    }
   ],
   "source": [
    "import matplotlib.pyplot as plt\n",
    "\n",
    "# Example dictionary\n",
    "data = {'1': 10, '2': 15, '3': 7, '4': 18, '5': 9}\n",
    "\n",
    "# Convert keys to integers if they are strings and sort by keys\n",
    "sorted_keys = sorted(data, key=int)\n",
    "sorted_values = [data[key] for key in sorted_keys]\n",
    "\n",
    "# Calculate distances from the first key\n",
    "distances = [int(key) - int(sorted_keys[0]) for key in sorted_keys]\n",
    "\n",
    "# Plotting the values\n",
    "fig, ax1 = plt.subplots()\n",
    "\n",
    "color = 'tab:red'\n",
    "ax1.set_xlabel('Keys')\n",
    "ax1.set_ylabel('Values', color=color)\n",
    "ax1.bar(sorted_keys, sorted_values, color=color)\n",
    "ax1.tick_params(axis='y', labelcolor=color)\n",
    "\n",
    "# Instantiate a second axes that shares the same x-axis\n",
    "ax2 = ax1.twinx()  \n",
    "color = 'tab:blue'\n",
    "ax2.set_ylabel('Distance from first key', color=color)\n",
    "ax2.plot(sorted_keys, distances, color=color, marker='o', linestyle='--')\n",
    "ax2.tick_params(axis='y', labelcolor=color)\n",
    "\n",
    "# Show the plot\n",
    "plt.title('Values and Distances Plot')\n",
    "plt.show()\n"
   ]
  },
  {
   "cell_type": "code",
   "execution_count": 10,
   "metadata": {},
   "outputs": [
    {
     "data": {
      "image/png": "[encoded data removed]",
      "text/plain": [
       "<Figure size 640x480 with 2 Axes>"
      ]
     },
     "metadata": {},
     "output_type": "display_data"
    }
   ],
   "source": [
    "import matplotlib.pyplot as plt\n",
    "\n",
    "# Data dictionary\n",
    "data_dict = {'A': 5, 'B': 10, 'C': 17, 'D': 8, 'E': 9}\n",
    "\n",
    "# Calculate distances from the first key's value\n",
    "first_value = list(data_dict.values())[0]\n",
    "distance = {key: value - first_value for key, value in data_dict.items()}\n",
    "\n",
    "# Keys and values for plotting\n",
    "keys = list(data_dict.keys())\n",
    "values = list(data_dict.values())\n",
    "distances = list(distance.values())\n",
    "\n",
    "# Create figure and axes\n",
    "fig, ax1 = plt.subplots()\n",
    "\n",
    "# Plotting the original values with bars\n",
    "bars = ax1.bar(keys, values, color='b', label='Values', alpha=0.6)\n",
    "\n",
    "# Adding labels and title to the first axis\n",
    "ax1.set_xlabel('Keys')\n",
    "ax1.set_ylabel('Values')\n",
    "ax1.set_title('Bar Chart of Values and Line Plot of Distances')\n",
    "\n",
    "# Create a second y-axis for the distances\n",
    "ax2 = ax1.twinx()\n",
    "line = ax2.plot(keys, distances, 'r-o', label='Distances')\n",
    "\n",
    "# Setting the second y-axis label\n",
    "ax2.set_ylabel('Distance from first key')\n",
    "\n",
    "# Adding legends\n",
    "lines, labels = ax1.get_legend_handles_labels()\n",
    "lines2, labels2 = ax2.get_legend_handles_labels()\n",
    "ax2.legend(lines + lines2, labels + labels2, loc='upper left')\n",
    "\n",
    "# Show plot\n",
    "plt.show()\n"
   ]
  }
 ],
 "metadata": {
  "kernelspec": {
   "display_name": "pytorch",
   "language": "python",
   "name": "python3"
  },
  "language_info": {
   "codemirror_mode": {
    "name": "ipython",
    "version": 3
   },
   "file_extension": ".py",
   "mimetype": "text/x-python",
   "name": "python",
   "nbconvert_exporter": "python",
   "pygments_lexer": "ipython3",
   "version": "3.11.9"
  }
 },
 "nbformat": 4,
 "nbformat_minor": 2
}
